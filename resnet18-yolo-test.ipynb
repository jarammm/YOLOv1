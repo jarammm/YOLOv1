{
 "cells": [
  {
   "cell_type": "code",
   "execution_count": null,
   "metadata": {},
   "outputs": [],
   "source": [
    "!git clone https://github.com/jarammm/YOLOv1.git"
   ]
  },
  {
   "cell_type": "code",
   "execution_count": null,
   "metadata": {},
   "outputs": [],
   "source": [
    "%cd yolo"
   ]
  },
  {
   "cell_type": "code",
   "execution_count": 1,
   "metadata": {},
   "outputs": [],
   "source": [
    "from utils import *\n",
    "from yolo import *\n",
    "import torch\n",
    "from torch import nn\n",
    "import torchvision"
   ]
  },
  {
   "cell_type": "code",
   "execution_count": 2,
   "metadata": {},
   "outputs": [],
   "source": [
    "train_iter, test_iter, test_iter_raw = load_test_data_voc(batch_size=16, test_shuffle=False)"
   ]
  },
  {
   "cell_type": "code",
   "execution_count": null,
   "metadata": {},
   "outputs": [],
   "source": [
    "from utils import *\n",
    "from yolo import *\n",
    "import torch\n",
    "from torch import nn, tensor\n",
    "import torchvision\n",
    "import cv2\n",
    "import gdown\n",
    "from pathlib import Path\n",
    "from google.colab.output import eval_js\n",
    "\n",
    "\n",
    "url=\"https://github.com/jarammm/YOLOv1/releases/download/v0.0.0/yolo_weights.pth\"\n",
    "model_weight_path = 'model/yolo_weights.pth'\n",
    "dir_to_save = 'model'\n",
    "Path(dir_to_save).mkdir(parents=True, exist_ok=True)\n",
    "\n",
    "\n",
    "gdown.download(url, model_weight_path, quiet=False)"
   ]
  },
  {
   "cell_type": "code",
   "execution_count": null,
   "metadata": {},
   "outputs": [],
   "source": [
    "model_weight_path = '/content/YOLOv1/model/yolo_weights.pth'\n",
    "\n",
    "resnet18 = torchvision.models.resnet18(pretrained=True)\n",
    "backbone = nn.Sequential(*list(resnet18.children())[:-2]) # remove avg pool and fc\n",
    "net = yolo.Yolo(backbone, backbone_out_channels=512)\n",
    "\n",
    "net.load_state_dict(torch.load(model_weight_path))"
   ]
  },
  {
   "cell_type": "code",
   "execution_count": null,
   "metadata": {},
   "outputs": [],
   "source": [
    "test_mAP_IoU(net, test_iter_raw, 'cuda')"
   ]
  },
  {
   "cell_type": "code",
   "execution_count": null,
   "metadata": {},
   "outputs": [],
   "source": []
  }
 ],
 "metadata": {
  "kernelspec": {
   "display_name": "Python 3.8.6 64-bit",
   "language": "python",
   "name": "python3"
  },
  "language_info": {
   "codemirror_mode": {
    "name": "ipython",
    "version": 3
   },
   "file_extension": ".py",
   "mimetype": "text/x-python",
   "name": "python",
   "nbconvert_exporter": "python",
   "pygments_lexer": "ipython3",
   "version": "3.8.6"
  },
  "vscode": {
   "interpreter": {
    "hash": "f38a6c91ce32564a4dac2f77dd9940243fcd3ebab146cb4a7c4e8638f4b30ddd"
   }
  }
 },
 "nbformat": 4,
 "nbformat_minor": 2
}
