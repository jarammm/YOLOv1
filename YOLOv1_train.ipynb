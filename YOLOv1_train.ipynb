{
  "nbformat": 4,
  "nbformat_minor": 0,
  "metadata": {
    "colab": {
      "provenance": [],
      "authorship_tag": "ABX9TyOOcITmWK6f5zqjyAI3VVYD",
      "include_colab_link": true
    },
    "kernelspec": {
      "name": "python3",
      "display_name": "Python 3"
    },
    "language_info": {
      "name": "python"
    },
    "accelerator": "GPU",
    "gpuClass": "standard"
  },
  "cells": [
    {
      "cell_type": "markdown",
      "metadata": {
        "id": "view-in-github",
        "colab_type": "text"
      },
      "source": [
        "<a href=\"https://colab.research.google.com/github/jarammm/YOLOv1/blob/main/YOLOv1_train.ipynb\" target=\"_parent\"><img src=\"https://colab.research.google.com/assets/colab-badge.svg\" alt=\"Open In Colab\"/></a>"
      ]
    },
    {
      "cell_type": "code",
      "source": [
        "import datetime"
      ],
      "metadata": {
        "id": "iuwnZ7_l8Xz3"
      },
      "execution_count": 1,
      "outputs": []
    },
    {
      "cell_type": "code",
      "source": [
        "!pip install xmltodict\n",
        "!pip install -U albumentations"
      ],
      "metadata": {
        "id": "YK6_AyVP5aBP",
        "colab": {
          "base_uri": "https://localhost:8080/"
        },
        "outputId": "d3c07434-fa99-48f7-c0ff-80a75bad6761"
      },
      "execution_count": 2,
      "outputs": [
        {
          "output_type": "stream",
          "name": "stdout",
          "text": [
            "Looking in indexes: https://pypi.org/simple, https://us-python.pkg.dev/colab-wheels/public/simple/\n",
            "Collecting xmltodict\n",
            "  Downloading xmltodict-0.13.0-py2.py3-none-any.whl (10.0 kB)\n",
            "Installing collected packages: xmltodict\n",
            "Successfully installed xmltodict-0.13.0\n",
            "Looking in indexes: https://pypi.org/simple, https://us-python.pkg.dev/colab-wheels/public/simple/\n",
            "Requirement already satisfied: albumentations in /usr/local/lib/python3.8/dist-packages (1.2.1)\n",
            "Collecting albumentations\n",
            "  Downloading albumentations-1.3.0-py3-none-any.whl (123 kB)\n",
            "\u001b[K     |████████████████████████████████| 123 kB 27.1 MB/s \n",
            "\u001b[?25hRequirement already satisfied: numpy>=1.11.1 in /usr/local/lib/python3.8/dist-packages (from albumentations) (1.21.6)\n",
            "Requirement already satisfied: opencv-python-headless>=4.1.1 in /usr/local/lib/python3.8/dist-packages (from albumentations) (4.6.0.66)\n",
            "Requirement already satisfied: PyYAML in /usr/local/lib/python3.8/dist-packages (from albumentations) (6.0)\n",
            "Requirement already satisfied: scipy in /usr/local/lib/python3.8/dist-packages (from albumentations) (1.7.3)\n",
            "Requirement already satisfied: qudida>=0.0.4 in /usr/local/lib/python3.8/dist-packages (from albumentations) (0.0.4)\n",
            "Requirement already satisfied: scikit-image>=0.16.1 in /usr/local/lib/python3.8/dist-packages (from albumentations) (0.18.3)\n",
            "Requirement already satisfied: typing-extensions in /usr/local/lib/python3.8/dist-packages (from qudida>=0.0.4->albumentations) (4.4.0)\n",
            "Requirement already satisfied: scikit-learn>=0.19.1 in /usr/local/lib/python3.8/dist-packages (from qudida>=0.0.4->albumentations) (1.0.2)\n",
            "Requirement already satisfied: PyWavelets>=1.1.1 in /usr/local/lib/python3.8/dist-packages (from scikit-image>=0.16.1->albumentations) (1.4.1)\n",
            "Requirement already satisfied: matplotlib!=3.0.0,>=2.0.0 in /usr/local/lib/python3.8/dist-packages (from scikit-image>=0.16.1->albumentations) (3.2.2)\n",
            "Requirement already satisfied: tifffile>=2019.7.26 in /usr/local/lib/python3.8/dist-packages (from scikit-image>=0.16.1->albumentations) (2022.10.10)\n",
            "Requirement already satisfied: pillow!=7.1.0,!=7.1.1,>=4.3.0 in /usr/local/lib/python3.8/dist-packages (from scikit-image>=0.16.1->albumentations) (7.1.2)\n",
            "Requirement already satisfied: imageio>=2.3.0 in /usr/local/lib/python3.8/dist-packages (from scikit-image>=0.16.1->albumentations) (2.9.0)\n",
            "Requirement already satisfied: networkx>=2.0 in /usr/local/lib/python3.8/dist-packages (from scikit-image>=0.16.1->albumentations) (2.8.8)\n",
            "Requirement already satisfied: kiwisolver>=1.0.1 in /usr/local/lib/python3.8/dist-packages (from matplotlib!=3.0.0,>=2.0.0->scikit-image>=0.16.1->albumentations) (1.4.4)\n",
            "Requirement already satisfied: pyparsing!=2.0.4,!=2.1.2,!=2.1.6,>=2.0.1 in /usr/local/lib/python3.8/dist-packages (from matplotlib!=3.0.0,>=2.0.0->scikit-image>=0.16.1->albumentations) (3.0.9)\n",
            "Requirement already satisfied: cycler>=0.10 in /usr/local/lib/python3.8/dist-packages (from matplotlib!=3.0.0,>=2.0.0->scikit-image>=0.16.1->albumentations) (0.11.0)\n",
            "Requirement already satisfied: python-dateutil>=2.1 in /usr/local/lib/python3.8/dist-packages (from matplotlib!=3.0.0,>=2.0.0->scikit-image>=0.16.1->albumentations) (2.8.2)\n",
            "Requirement already satisfied: six>=1.5 in /usr/local/lib/python3.8/dist-packages (from python-dateutil>=2.1->matplotlib!=3.0.0,>=2.0.0->scikit-image>=0.16.1->albumentations) (1.15.0)\n",
            "Requirement already satisfied: threadpoolctl>=2.0.0 in /usr/local/lib/python3.8/dist-packages (from scikit-learn>=0.19.1->qudida>=0.0.4->albumentations) (3.1.0)\n",
            "Requirement already satisfied: joblib>=0.11 in /usr/local/lib/python3.8/dist-packages (from scikit-learn>=0.19.1->qudida>=0.0.4->albumentations) (1.2.0)\n",
            "Installing collected packages: albumentations\n",
            "  Attempting uninstall: albumentations\n",
            "    Found existing installation: albumentations 1.2.1\n",
            "    Uninstalling albumentations-1.2.1:\n",
            "      Successfully uninstalled albumentations-1.2.1\n",
            "Successfully installed albumentations-1.3.0\n"
          ]
        }
      ]
    },
    {
      "cell_type": "code",
      "source": [
        "!git clone https://github.com/jarammm/YOLOv1.git"
      ],
      "metadata": {
        "colab": {
          "base_uri": "https://localhost:8080/"
        },
        "id": "dHCeGSoI5eqw",
        "outputId": "63882adb-70ef-42a1-f66a-792595d12793"
      },
      "execution_count": 3,
      "outputs": [
        {
          "output_type": "stream",
          "name": "stdout",
          "text": [
            "Cloning into 'YOLOv1'...\n",
            "remote: Enumerating objects: 46, done.\u001b[K\n",
            "remote: Counting objects: 100% (46/46), done.\u001b[K\n",
            "remote: Compressing objects: 100% (34/34), done.\u001b[K\n",
            "remote: Total 46 (delta 19), reused 32 (delta 10), pack-reused 0\u001b[K\n",
            "Unpacking objects: 100% (46/46), done.\n"
          ]
        }
      ]
    },
    {
      "cell_type": "code",
      "source": [
        "%cd YOLOv1"
      ],
      "metadata": {
        "colab": {
          "base_uri": "https://localhost:8080/"
        },
        "id": "RljiwVBx5Z6C",
        "outputId": "2767516f-12cf-44c2-d595-619dbaeb58dc"
      },
      "execution_count": 4,
      "outputs": [
        {
          "output_type": "stream",
          "name": "stdout",
          "text": [
            "/content/YOLOv1\n"
          ]
        }
      ]
    },
    {
      "cell_type": "code",
      "source": [
        "!sh data/get_data"
      ],
      "metadata": {
        "colab": {
          "base_uri": "https://localhost:8080/"
        },
        "id": "Us1DRnz25aNA",
        "outputId": "6e1d7d2c-e23a-4982-c2c9-5a8585f894b8"
      },
      "execution_count": 5,
      "outputs": [
        {
          "output_type": "stream",
          "name": "stdout",
          "text": [
            "--2023-01-03 14:08:55--  http://host.robots.ox.ac.uk/pascal/VOC/voc2007/VOCtrainval_06-Nov-2007.tar\n",
            "Resolving host.robots.ox.ac.uk (host.robots.ox.ac.uk)... 129.67.94.152\n",
            "Connecting to host.robots.ox.ac.uk (host.robots.ox.ac.uk)|129.67.94.152|:80... connected.\n",
            "HTTP request sent, awaiting response... 200 OK\n",
            "Length: 460032000 (439M) [application/x-tar]\n",
            "Saving to: ‘VOCtrainval_06-Nov-2007.tar’\n",
            "\n",
            "VOCtrainval_06-Nov- 100%[===================>] 438.72M  14.3MB/s    in 32s     \n",
            "\n",
            "2023-01-03 14:09:28 (13.5 MB/s) - ‘VOCtrainval_06-Nov-2007.tar’ saved [460032000/460032000]\n",
            "\n",
            "--2023-01-03 14:09:28--  http://host.robots.ox.ac.uk/pascal/VOC/voc2007/VOCtest_06-Nov-2007.tar\n",
            "Resolving host.robots.ox.ac.uk (host.robots.ox.ac.uk)... 129.67.94.152\n",
            "Connecting to host.robots.ox.ac.uk (host.robots.ox.ac.uk)|129.67.94.152|:80... connected.\n",
            "HTTP request sent, awaiting response... 200 OK\n",
            "Length: 451020800 (430M) [application/x-tar]\n",
            "Saving to: ‘VOCtest_06-Nov-2007.tar’\n",
            "\n",
            "VOCtest_06-Nov-2007 100%[===================>] 430.13M  14.2MB/s    in 32s     \n",
            "\n",
            "2023-01-03 14:10:01 (13.5 MB/s) - ‘VOCtest_06-Nov-2007.tar’ saved [451020800/451020800]\n",
            "\n",
            "--2023-01-03 14:10:01--  http://host.robots.ox.ac.uk/pascal/VOC/voc2012/VOCtrainval_11-May-2012.tar\n",
            "Resolving host.robots.ox.ac.uk (host.robots.ox.ac.uk)... 129.67.94.152\n",
            "Connecting to host.robots.ox.ac.uk (host.robots.ox.ac.uk)|129.67.94.152|:80... connected.\n",
            "HTTP request sent, awaiting response... 200 OK\n",
            "Length: 1999639040 (1.9G) [application/x-tar]\n",
            "Saving to: ‘VOCtrainval_11-May-2012.tar’\n",
            "\n",
            "VOCtrainval_11-May- 100%[===================>]   1.86G  14.4MB/s    in 2m 15s  \n",
            "\n",
            "2023-01-03 14:12:17 (14.1 MB/s) - ‘VOCtrainval_11-May-2012.tar’ saved [1999639040/1999639040]\n",
            "\n",
            "--2023-01-03 14:12:29--  https://pjreddie.com/media/files/voc_label.py\n",
            "Resolving pjreddie.com (pjreddie.com)... 128.208.4.108\n",
            "Connecting to pjreddie.com (pjreddie.com)|128.208.4.108|:443... connected.\n",
            "HTTP request sent, awaiting response... 200 OK\n",
            "Length: 2042 (2.0K) [application/octet-stream]\n",
            "Saving to: ‘voc_label.py’\n",
            "\n",
            "voc_label.py        100%[===================>]   1.99K  --.-KB/s    in 0s      \n",
            "\n",
            "2023-01-03 14:12:29 (316 MB/s) - ‘voc_label.py’ saved [2042/2042]\n",
            "\n",
            "mkdir: cannot create directory ‘data’: File exists\n",
            "cp: cannot stat 'VOCdevkit/*.jpg': No such file or directory\n",
            "mkdir: cannot create directory ‘data’: File exists\n",
            "mkdir: cannot create directory ‘data/images’: File exists\n",
            "mkdir: cannot create directory ‘data/labels’: File exists\n"
          ]
        }
      ]
    },
    {
      "cell_type": "code",
      "source": [
        "print(datetime.datetime.now())"
      ],
      "metadata": {
        "colab": {
          "base_uri": "https://localhost:8080/"
        },
        "id": "tuu6XC0G80yI",
        "outputId": "1ea912de-0d74-4dcd-c7a8-8d1146693ac4"
      },
      "execution_count": 6,
      "outputs": [
        {
          "output_type": "stream",
          "name": "stdout",
          "text": [
            "2023-01-03 14:12:37.163849\n"
          ]
        }
      ]
    },
    {
      "cell_type": "code",
      "source": [
        "!python train.py"
      ],
      "metadata": {
        "colab": {
          "base_uri": "https://localhost:8080/"
        },
        "id": "BlBQIdaC5hZR",
        "outputId": "45fcb352-7c06-4e5c-c7b9-d4757fc1504f"
      },
      "execution_count": null,
      "outputs": [
        {
          "output_type": "stream",
          "name": "stdout",
          "text": [
            "Train mAP: 0.0\n",
            "100% 258/258 [05:33<00:00,  1.29s/it, loss=570]\n",
            "Mean loss was 1073.4619904747306\n",
            "Train mAP: 0.002461581025272608\n",
            "100% 258/258 [05:32<00:00,  1.29s/it, loss=505]\n",
            "Mean loss was 640.1490029031917\n",
            "Train mAP: 0.00810069590806961\n",
            "100% 258/258 [05:32<00:00,  1.29s/it, loss=571]\n",
            "Mean loss was 592.7313408666803\n",
            "Train mAP: 0.012127773836255074\n",
            "100% 258/258 [05:32<00:00,  1.29s/it, loss=597]\n",
            "Mean loss was 550.6217820515004\n",
            "Train mAP: 0.018885456025600433\n",
            "100% 258/258 [05:32<00:00,  1.29s/it, loss=563]\n",
            "Mean loss was 514.8659278810486\n",
            "Train mAP: 0.027074381709098816\n",
            "100% 258/258 [05:32<00:00,  1.29s/it, loss=454]\n",
            "Mean loss was 474.80990446815196\n",
            "Train mAP: 0.053627073764801025\n",
            "100% 258/258 [05:32<00:00,  1.29s/it, loss=419]\n",
            "Mean loss was 437.3315262905387\n",
            "Train mAP: 0.06309498846530914\n",
            "100% 258/258 [05:32<00:00,  1.29s/it, loss=407]\n",
            "Mean loss was 408.95258810353835\n",
            "Train mAP: 0.08541791141033173\n",
            "100% 258/258 [05:32<00:00,  1.29s/it, loss=481]\n",
            "Mean loss was 382.79669437852016\n",
            "Train mAP: 0.1119934543967247\n",
            "100% 258/258 [05:32<00:00,  1.29s/it, loss=354]\n",
            "Mean loss was 348.1526562003202\n",
            "Train mAP: 0.16358336806297302\n",
            "100% 258/258 [05:32<00:00,  1.29s/it, loss=337]\n",
            "Mean loss was 320.44166422999183\n",
            "Train mAP: 0.23396940529346466\n",
            "100% 258/258 [05:32<00:00,  1.29s/it, loss=348]\n",
            "Mean loss was 300.8904731809631\n",
            "Train mAP: 0.22111281752586365\n",
            "100% 258/258 [05:32<00:00,  1.29s/it, loss=311]\n",
            "Mean loss was 291.3603761658188\n",
            "Train mAP: 0.36122459173202515\n",
            "100% 258/258 [05:32<00:00,  1.29s/it, loss=180]\n",
            "Mean loss was 266.477748308995\n",
            "Train mAP: 0.4119495451450348\n",
            "100% 258/258 [05:32<00:00,  1.29s/it, loss=227]\n",
            "Mean loss was 247.9317739915478\n",
            "Train mAP: 0.5106832981109619\n",
            "100% 258/258 [05:28<00:00,  1.27s/it, loss=248]\n",
            "Mean loss was 235.46681467692056\n",
            "Train mAP: 0.554293692111969\n",
            "100% 258/258 [05:27<00:00,  1.27s/it, loss=237]\n",
            "Mean loss was 223.543929462285\n",
            "Train mAP: 0.5567593574523926\n",
            "100% 258/258 [05:27<00:00,  1.27s/it, loss=199]\n",
            "Mean loss was 216.05392793167468\n",
            "Train mAP: 0.5677026510238647\n",
            "100% 258/258 [05:28<00:00,  1.27s/it, loss=192]\n",
            "Mean loss was 208.52026509129723\n",
            "Train mAP: 0.643884539604187\n",
            "100% 258/258 [05:27<00:00,  1.27s/it, loss=190]\n",
            "Mean loss was 196.53538412641186\n",
            "Train mAP: 0.6880873441696167\n",
            "100% 258/258 [05:27<00:00,  1.27s/it, loss=199]\n",
            "Mean loss was 190.79260395848473\n",
            "Train mAP: 0.67827308177948\n",
            "100% 258/258 [05:27<00:00,  1.27s/it, loss=166]\n",
            "Mean loss was 183.78437666190686\n",
            "Train mAP: 0.7201623916625977\n",
            "100% 258/258 [05:27<00:00,  1.27s/it, loss=258]\n",
            "Mean loss was 174.59843234868012\n",
            "Train mAP: 0.7158759236335754\n",
            "100% 258/258 [05:27<00:00,  1.27s/it, loss=143]\n",
            "Mean loss was 183.91819156972014\n",
            "Train mAP: 0.7310905456542969\n",
            "100% 258/258 [05:27<00:00,  1.27s/it, loss=152]\n",
            "Mean loss was 175.0478481026583\n"
          ]
        }
      ]
    },
    {
      "cell_type": "code",
      "source": [
        "print(datetime.datetime.now())"
      ],
      "metadata": {
        "id": "MzZpI6mP81s8"
      },
      "execution_count": null,
      "outputs": []
    }
  ]
}