{
  "nbformat": 4,
  "nbformat_minor": 0,
  "metadata": {
    "colab": {
      "provenance": [],
      "authorship_tag": "ABX9TyO4/TdyLFrB7UAJJfEcxRX3",
      "include_colab_link": true
    },
    "kernelspec": {
      "name": "python3",
      "display_name": "Python 3"
    },
    "language_info": {
      "name": "python"
    },
    "accelerator": "GPU",
    "gpuClass": "standard"
  },
  "cells": [
    {
      "cell_type": "markdown",
      "metadata": {
        "id": "view-in-github",
        "colab_type": "text"
      },
      "source": [
        "<a href=\"https://colab.research.google.com/github/jarammm/YOLOv1/blob/main/YOLOv1_test.ipynb\" target=\"_parent\"><img src=\"https://colab.research.google.com/assets/colab-badge.svg\" alt=\"Open In Colab\"/></a>"
      ]
    },
    {
      "cell_type": "code",
      "source": [
        "!pip install xmltodict\n",
        "!pip install -U albumentations"
      ],
      "metadata": {
        "id": "YK6_AyVP5aBP"
      },
      "execution_count": null,
      "outputs": []
    },
    {
      "cell_type": "code",
      "source": [
        "!git clone https://github.com/jarammm/YOLOv1.git"
      ],
      "metadata": {
        "colab": {
          "base_uri": "https://localhost:8080/"
        },
        "id": "dHCeGSoI5eqw",
        "outputId": "5d1a99b4-cdfb-41e1-f49c-6e208c073dfa"
      },
      "execution_count": 2,
      "outputs": [
        {
          "output_type": "stream",
          "name": "stdout",
          "text": [
            "Cloning into 'YOLOv1'...\n",
            "remote: Enumerating objects: 40, done.\u001b[K\n",
            "remote: Counting objects: 100% (40/40), done.\u001b[K\n",
            "remote: Compressing objects: 100% (29/29), done.\u001b[K\n",
            "remote: Total 40 (delta 16), reused 30 (delta 9), pack-reused 0\u001b[K\n",
            "Unpacking objects: 100% (40/40), done.\n"
          ]
        }
      ]
    },
    {
      "cell_type": "code",
      "source": [
        "%cd YOLOv1"
      ],
      "metadata": {
        "colab": {
          "base_uri": "https://localhost:8080/"
        },
        "id": "RljiwVBx5Z6C",
        "outputId": "55d5ab8c-39f9-4727-b2d2-961fbfadc612"
      },
      "execution_count": 3,
      "outputs": [
        {
          "output_type": "stream",
          "name": "stdout",
          "text": [
            "/content/YOLOv1\n"
          ]
        }
      ]
    },
    {
      "cell_type": "code",
      "source": [
        "!sh data/get_data"
      ],
      "metadata": {
        "colab": {
          "base_uri": "https://localhost:8080/"
        },
        "id": "Us1DRnz25aNA",
        "outputId": "77e20b85-b5a1-45ef-f4d7-77bc3be457b0"
      },
      "execution_count": 4,
      "outputs": [
        {
          "output_type": "stream",
          "name": "stdout",
          "text": [
            "--2022-12-28 09:08:24--  http://host.robots.ox.ac.uk/pascal/VOC/voc2007/VOCtrainval_06-Nov-2007.tar\n",
            "Resolving host.robots.ox.ac.uk (host.robots.ox.ac.uk)... 129.67.94.152\n",
            "Connecting to host.robots.ox.ac.uk (host.robots.ox.ac.uk)|129.67.94.152|:80... connected.\n",
            "HTTP request sent, awaiting response... 200 OK\n",
            "Length: 460032000 (439M) [application/x-tar]\n",
            "Saving to: ‘VOCtrainval_06-Nov-2007.tar’\n",
            "\n",
            "VOCtrainval_06-Nov- 100%[===================>] 438.72M   138MB/s    in 3.2s    \n",
            "\n",
            "2022-12-28 09:08:27 (136 MB/s) - ‘VOCtrainval_06-Nov-2007.tar’ saved [460032000/460032000]\n",
            "\n",
            "--2022-12-28 09:08:27--  http://host.robots.ox.ac.uk/pascal/VOC/voc2007/VOCtest_06-Nov-2007.tar\n",
            "Resolving host.robots.ox.ac.uk (host.robots.ox.ac.uk)... 129.67.94.152\n",
            "Connecting to host.robots.ox.ac.uk (host.robots.ox.ac.uk)|129.67.94.152|:80... connected.\n",
            "HTTP request sent, awaiting response... 200 OK\n",
            "Length: 451020800 (430M) [application/x-tar]\n",
            "Saving to: ‘VOCtest_06-Nov-2007.tar’\n",
            "\n",
            "VOCtest_06-Nov-2007 100%[===================>] 430.13M  85.3MB/s    in 5.1s    \n",
            "\n",
            "2022-12-28 09:08:32 (84.2 MB/s) - ‘VOCtest_06-Nov-2007.tar’ saved [451020800/451020800]\n",
            "\n",
            "--2022-12-28 09:08:32--  http://host.robots.ox.ac.uk/pascal/VOC/voc2012/VOCtrainval_11-May-2012.tar\n",
            "Resolving host.robots.ox.ac.uk (host.robots.ox.ac.uk)... 129.67.94.152\n",
            "Connecting to host.robots.ox.ac.uk (host.robots.ox.ac.uk)|129.67.94.152|:80... connected.\n",
            "HTTP request sent, awaiting response... 200 OK\n",
            "Length: 1999639040 (1.9G) [application/x-tar]\n",
            "Saving to: ‘VOCtrainval_11-May-2012.tar’\n",
            "\n",
            "VOCtrainval_11-May- 100%[===================>]   1.86G   211MB/s    in 14s     \n",
            "\n",
            "2022-12-28 09:08:47 (132 MB/s) - ‘VOCtrainval_11-May-2012.tar’ saved [1999639040/1999639040]\n",
            "\n",
            "--2022-12-28 09:08:59--  https://pjreddie.com/media/files/voc_label.py\n",
            "Resolving pjreddie.com (pjreddie.com)... 128.208.4.108\n",
            "Connecting to pjreddie.com (pjreddie.com)|128.208.4.108|:443... connected.\n",
            "HTTP request sent, awaiting response... 200 OK\n",
            "Length: 2042 (2.0K) [application/octet-stream]\n",
            "Saving to: ‘voc_label.py’\n",
            "\n",
            "voc_label.py        100%[===================>]   1.99K  --.-KB/s    in 0s      \n",
            "\n",
            "2022-12-28 09:09:00 (381 MB/s) - ‘voc_label.py’ saved [2042/2042]\n",
            "\n",
            "mkdir: cannot create directory ‘data’: File exists\n",
            "cp: cannot stat 'VOCdevkit/*.jpg': No such file or directory\n",
            "mkdir: cannot create directory ‘data’: File exists\n",
            "mkdir: cannot create directory ‘data/images’: File exists\n",
            "mkdir: cannot create directory ‘data/labels’: File exists\n"
          ]
        }
      ]
    },
    {
      "cell_type": "code",
      "source": [
        "!python train.py"
      ],
      "metadata": {
        "colab": {
          "base_uri": "https://localhost:8080/"
        },
        "id": "BlBQIdaC5hZR",
        "outputId": "aeccdef4-86de-4a4b-800b-87d1b00c9057"
      },
      "execution_count": 5,
      "outputs": [
        {
          "output_type": "stream",
          "name": "stdout",
          "text": [
            "Train mAP: 0.0\n",
            "100% 258/258 [05:21<00:00,  1.25s/it, loss=565]\n",
            "Mean loss was 1062.1909619708395\n",
            "Train mAP: 0.0027570410165935755\n",
            "100% 258/258 [05:19<00:00,  1.24s/it, loss=510]\n",
            "Mean loss was 640.6818790879361\n",
            "Train mAP: 0.008555222302675247\n",
            "100% 258/258 [05:20<00:00,  1.24s/it, loss=586]\n",
            "Mean loss was 599.3269995164502\n",
            "Train mAP: 0.011800778098404408\n",
            "100% 258/258 [05:20<00:00,  1.24s/it, loss=623]\n",
            "Mean loss was 563.1631679091342\n",
            "Train mAP: 0.015583453699946404\n",
            "100% 258/258 [05:20<00:00,  1.24s/it, loss=583]\n",
            "Mean loss was 526.2119953244231\n",
            "Test mAP: 0.008048878982663155\n"
          ]
        }
      ]
    },
    {
      "cell_type": "code",
      "source": [],
      "metadata": {
        "id": "kgrSpc7pAZya"
      },
      "execution_count": null,
      "outputs": []
    }
  ]
}